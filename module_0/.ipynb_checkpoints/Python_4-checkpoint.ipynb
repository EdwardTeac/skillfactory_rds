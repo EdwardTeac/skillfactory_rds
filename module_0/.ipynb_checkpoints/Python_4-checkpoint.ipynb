{
 "cells": [
  {
   "cell_type": "code",
   "execution_count": 2,
   "metadata": {},
   "outputs": [
    {
     "name": "stdout",
     "output_type": "stream",
     "text": [
      "60\n"
     ]
    }
   ],
   "source": [
    "# Это определение функции, которая возводит число в квадрат    \n",
    "def square(x):    \n",
    "    return x**2    \n",
    "    \n",
    "# Это вызов функции. Мы возведём 5 в квадрат и положим 25 в переменную square_result    \n",
    "square_result = square(5)    \n",
    "    \n",
    "    \n",
    "# Определение стоимости в магазине всё по 60, где только яблоки стоят 30    \n",
    "def count_cost(product):    \n",
    "    if product == \"apple\":    \n",
    "        cost = 30    \n",
    "    else:    \n",
    "        cost = 60    \n",
    "    return cost    \n",
    "    \n",
    "# Попросим функцию посчитать стоимость апельсина    \n",
    "orange_cost = count_cost(\"orange\")\n",
    "print(orange_cost)"
   ]
  },
  {
   "cell_type": "code",
   "execution_count": 37,
   "metadata": {},
   "outputs": [
    {
     "data": {
      "text/plain": [
       "-2.5"
      ]
     },
     "execution_count": 37,
     "metadata": {},
     "output_type": "execute_result"
    }
   ],
   "source": [
    "def get_median(aList):\n",
    "    list_lenght = len(aList)\n",
    "    sorted_list = sorted(aList)\n",
    "    if list_lenght % 2 == 0:\n",
    "        # Если четное количество элементов, то берем средние 2 числа и делим их на 2\n",
    "        temp_lenght = int((list_lenght/2) - 1)\n",
    "        return (sorted_list[temp_lenght] + sorted_list[temp_lenght+1])/2\n",
    "    else :\n",
    "        return sorted_list[int(list_lenght/2)]\n",
    "get_median([4, 8, 15, 16, 23, 42])"
   ]
  },
  {
   "cell_type": "code",
   "execution_count": 51,
   "metadata": {},
   "outputs": [
    {
     "name": "stdout",
     "output_type": "stream",
     "text": [
      "29.0\n"
     ]
    }
   ],
   "source": [
    "user_db = [{'orders': 12}, {'orders': 30}, {'orders': 45}]\n",
    "\n",
    "def avg_orders(user_db):\n",
    "    order_sum = sum([user['orders'] for user in user_db])\n",
    "    orders_per_user = order_sum/len(user_db)\n",
    "    return orders_per_user\n",
    "print(avg_orders(user_db))"
   ]
  },
  {
   "cell_type": "code",
   "execution_count": 20,
   "metadata": {},
   "outputs": [
    {
     "name": "stdout",
     "output_type": "stream",
     "text": [
      "67\n"
     ]
    }
   ],
   "source": [
    "from random import random\n",
    "rand = random()\n",
    "while rand < 0.65 or rand > 0.85:\n",
    "    rand = random()\n",
    "else:\n",
    "    print(int(round(rand,2)*100))\n"
   ]
  },
  {
   "cell_type": "code",
   "execution_count": 21,
   "metadata": {},
   "outputs": [
    {
     "name": "stdout",
     "output_type": "stream",
     "text": [
      "10\n"
     ]
    }
   ],
   "source": [
    "all_the = sum\n",
    "magic = range\n",
    "print(all_the(magic(5)))"
   ]
  },
  {
   "cell_type": "code",
   "execution_count": 32,
   "metadata": {},
   "outputs": [
    {
     "data": {
      "text/plain": [
       "['Mr. Boris', 'Mr. Ivan', 'Mr. Bob']"
      ]
     },
     "execution_count": 32,
     "metadata": {},
     "output_type": "execute_result"
    }
   ],
   "source": [
    "# => Определим функцию polite_name, которая делает вежливым одно имя \n",
    "def polite_name(name):  \n",
    "    return 'Mr. ' + name   \n",
    "  \n",
    "guests = [\"Boris\", \"Ivan\", \"Bob\"]\n",
    "guest_iterator = map(polite_name, guests)  # здесь мы применили polite_name к каждому имени  \n",
    "list(guest_iterator)"
   ]
  },
  {
   "cell_type": "code",
   "execution_count": 33,
   "metadata": {},
   "outputs": [
    {
     "data": {
      "text/plain": [
       "73"
      ]
     },
     "execution_count": 33,
     "metadata": {},
     "output_type": "execute_result"
    }
   ],
   "source": [
    "list(map(abs, [10,  -1, 42, -73]))[3]"
   ]
  },
  {
   "cell_type": "code",
   "execution_count": 34,
   "metadata": {},
   "outputs": [
    {
     "data": {
      "text/plain": [
       "['Mr. Boris', 'Mr. Ivan', 'Mr. Bob']"
      ]
     },
     "execution_count": 34,
     "metadata": {},
     "output_type": "execute_result"
    }
   ],
   "source": [
    "def polite_name(name):  \n",
    "    return 'Mr. ' + name   \n",
    "  \n",
    "guests = [\"Boris\", \"Ivan\", \"Bob\"]  \n",
    "guest_iterator = map(polite_name, guests)   \n",
    "  \n",
    "# Теперь перепишем с лямбда функцией  \n",
    "guests = [\"Boris\", \"Ivan\", \"Bob\"]  \n",
    "list(map(lambda name: \"Mr. \" + name, guests))  "
   ]
  },
  {
   "cell_type": "code",
   "execution_count": 42,
   "metadata": {},
   "outputs": [
    {
     "data": {
      "text/plain": [
       "[-14, -10, -3, -2, 5, 24]"
      ]
     },
     "execution_count": 42,
     "metadata": {},
     "output_type": "execute_result"
    }
   ],
   "source": [
    "values = [4, 8, 15, 16, 23, 42]\n",
    "mean = 18\n",
    "\n",
    "result = list(map(lambda value: value - mean, values))\n",
    "list(result)"
   ]
  },
  {
   "cell_type": "code",
   "execution_count": 41,
   "metadata": {},
   "outputs": [
    {
     "data": {
      "text/plain": [
       "[23, 42]"
      ]
     },
     "execution_count": 41,
     "metadata": {},
     "output_type": "execute_result"
    }
   ],
   "source": [
    "values = [4, 8, 15, 16, 23, 42]\n",
    "mean = 18\n",
    "\n",
    "result =  list(filter(lambda value: value > mean, values))\n",
    "list(result)"
   ]
  },
  {
   "cell_type": "code",
   "execution_count": 6,
   "metadata": {},
   "outputs": [
    {
     "name": "stdout",
     "output_type": "stream",
     "text": [
      "[10, 20]\n",
      "[5, 10]\n",
      "[-5, 5]\n"
     ]
    }
   ],
   "source": [
    "def normalize(numbers,mean = 0,std = 1):\n",
    "    new_numbers = []\n",
    "    for i in numbers:\n",
    "        new_numbers.append(int((i - mean)/std))\n",
    "    return new_numbers\n",
    "print(normalize([10, 20]))\n",
    "print(normalize([10, 20], std=2))\n",
    "print(normalize([10, 20], mean=15))"
   ]
  },
  {
   "cell_type": "code",
   "execution_count": 7,
   "metadata": {},
   "outputs": [
    {
     "name": "stdout",
     "output_type": "stream",
     "text": [
      "21\n"
     ]
    }
   ],
   "source": [
    "def sum_args(*args):\n",
    "    return sum(args)\n",
    "print(sum_args(10, 15, -4))"
   ]
  },
  {
   "cell_type": "code",
   "execution_count": 8,
   "metadata": {},
   "outputs": [
    {
     "name": "stdout",
     "output_type": "stream",
     "text": [
      "school :  skillfactory\n",
      "school :  skillfactory\n",
      "course :  analytics\n",
      "language :  python\n"
     ]
    }
   ],
   "source": [
    "def print_config(**kwargs):  \n",
    "    for key, value in kwargs.items():  \n",
    "        print(key, \": \", value)  \n",
    "  \n",
    "  \n",
    "print_config(school=\"skillfactory\")  \n",
    "# => school :  skillfactory  \n",
    "print_config(school=\"skillfactory\", course=\"analytics\", language=\"python\")  \n",
    "# => school :  skillfactory  \n",
    "# course :  analytics  \n",
    "# language :  python  "
   ]
  },
  {
   "cell_type": "code",
   "execution_count": 9,
   "metadata": {},
   "outputs": [
    {
     "name": "stdout",
     "output_type": "stream",
     "text": [
      "verbose mode\n"
     ]
    }
   ],
   "source": [
    "def show_keys(**kwargs):\n",
    "    print(' '.join(kwargs.keys()))\n",
    "\n",
    "show_keys(verbose=True, mode='constant')"
   ]
  },
  {
   "cell_type": "code",
   "execution_count": 10,
   "metadata": {},
   "outputs": [],
   "source": [
    "def ideal_function(x, y, *args, p=10, q=20, **kwargs):  \n",
    "    return x*y  "
   ]
  },
  {
   "cell_type": "code",
   "execution_count": 42,
   "metadata": {},
   "outputs": [
    {
     "name": "stdout",
     "output_type": "stream",
     "text": [
      "8\n",
      "4.0\n",
      "24\n",
      "3.4285714285714284\n"
     ]
    }
   ],
   "source": [
    "def count_letters(sentence, average = False):\n",
    "    count = 0\n",
    "    temp_arr = []\n",
    "    pattern = re.compile('\\w*\\S')\n",
    "    for i in sentence:\n",
    "        if i != ' ':\n",
    "            count += 1\n",
    "    if average == True:\n",
    "        return count/len(pattern.findall(sentence))\n",
    "    else:\n",
    "        return count\n",
    "print(count_letters(\"Beep boop\"))\n",
    "print(count_letters(\"Beep boop\", average=True))\n",
    "print(count_letters(\"I will build my own theme park\"))\n",
    "print(count_letters(\"I will build my own theme park\", average=True))"
   ]
  },
  {
   "cell_type": "code",
   "execution_count": 20,
   "metadata": {},
   "outputs": [
    {
     "name": "stdout",
     "output_type": "stream",
     "text": [
      "7\n",
      "['I', 'will', 'build', 'my', 'own', 'theme', 'park']\n"
     ]
    }
   ],
   "source": [
    "import re\n",
    "temp_arr = []\n",
    "string = 'I will build my own theme park'\n",
    "pattern = re.compile('\\w*\\S')\n",
    "temp_arr = pattern.findall(string)\n",
    "print(len(pattern.findall(string)))\n",
    "print(pattern.findall(string))"
   ]
  },
  {
   "cell_type": "code",
   "execution_count": 49,
   "metadata": {},
   "outputs": [
    {
     "data": {
      "text/plain": [
       "[['a', 'f', 'o', 's'],\n",
       " ['a', 'c', 'e', 'i', 's', 's', 't', 'u'],\n",
       " ['a', 'e', 'i', 'l', 's', 'v'],\n",
       " ['c', 'e', 'i', 'p', 'r', 't', 'u'],\n",
       " ['a', 'b', 'e', 'k', 's', 't'],\n",
       " ['a', 'c', 'n', 'o', 'r', 't'],\n",
       " ['d', 'e', 'g', 'g', 'i', 'o']]"
      ]
     },
     "execution_count": 49,
     "metadata": {},
     "output_type": "execute_result"
    }
   ],
   "source": [
    "words = [\"sofa\", \"suitcase\", \"valise\", \"picture\", \"basket\", \"carton\", \"doggie\"]\n",
    "list(map(lambda w: sorted(w), words))"
   ]
  },
  {
   "cell_type": "code",
   "execution_count": 98,
   "metadata": {},
   "outputs": [
    {
     "data": {
      "text/plain": [
       "5"
      ]
     },
     "execution_count": 98,
     "metadata": {},
     "output_type": "execute_result"
    }
   ],
   "source": [
    "def always(n):\n",
    "  return lambda : n\n",
    "five = always(5)\n",
    "five()"
   ]
  },
  {
   "cell_type": "code",
   "execution_count": 104,
   "metadata": {},
   "outputs": [
    {
     "data": {
      "text/plain": [
       "5"
      ]
     },
     "execution_count": 104,
     "metadata": {},
     "output_type": "execute_result"
    }
   ],
   "source": [
    "n = 0\n",
    "def five():\n",
    "    global n\n",
    "    return n\n",
    "\n",
    "dd = five\n",
    "\n",
    "def always(n1):\n",
    "    global dd\n",
    "    global n\n",
    "    n = n1\n",
    "    ret_def = dd\n",
    "    return ret_def\n",
    "\n",
    "fiver = always(5)\n",
    "fiver()"
   ]
  },
  {
   "cell_type": "code",
   "execution_count": 2,
   "metadata": {},
   "outputs": [
    {
     "name": "stdout",
     "output_type": "stream",
     "text": [
      "Загадано число от 1 до 100\n",
      "50\n",
      "Угадываемое число меньше 50 \n",
      "40\n",
      "Вы угадали число 40 за 2 попыток.\n"
     ]
    }
   ],
   "source": [
    "import numpy as np\n",
    "count = 0                            # счетчик попыток\n",
    "number = np.random.randint(1,101)    # загадали число\n",
    "print (\"Загадано число от 1 до 100\")\n",
    "\n",
    "while True:                        # бесконечный цикл\n",
    "    predict = int(input())         # предполагаемое число\n",
    "    count += 1                     # плюсуем попытку\n",
    "    if number == predict: break    # выход из цикла, если угадали\n",
    "    elif number > predict: print (f\"Угадываемое число больше {predict} \")\n",
    "    elif number < predict: print (f\"Угадываемое число меньше {predict} \")\n",
    "        \n",
    "print (f\"Вы угадали число {number} за {count} попыток.\")"
   ]
  },
  {
   "cell_type": "code",
   "execution_count": 35,
   "metadata": {},
   "outputs": [
    {
     "name": "stdout",
     "output_type": "stream",
     "text": [
      "Загадано число от 1 до 100\n",
      "Вы угадали число 17 за 17 попыток.\n"
     ]
    }
   ],
   "source": [
    "number = np.random.randint(1,101)    # загадали число\n",
    "print (\"Загадано число от 1 до 100\")\n",
    "for count in range(1,101):         # более компактный вариант счетчика\n",
    "    if number == count: break    # выход из цикла, если угадали      \n",
    "print (f\"Вы угадали число {number} за {count} попыток.\")"
   ]
  },
  {
   "cell_type": "code",
   "execution_count": 15,
   "metadata": {},
   "outputs": [],
   "source": [
    "import numpy as np\n",
    "\n",
    "def game_core_v1(number):\n",
    "    '''Просто угадываем на random, никак не используя информацию о больше или меньше.\n",
    "       Функция принимает загаданное число и возвращает число попыток'''\n",
    "    count = 0\n",
    "    while True:\n",
    "        count+=1\n",
    "        predict = np.random.randint(1,101) # предполагаемое число\n",
    "        if number == predict: \n",
    "            return(count) # выход из цикла, если угадали\n",
    "\n",
    "def game_core_v2(number):\n",
    "    '''Сначала устанавливаем любое random число, а потом уменьшаем или увеличиваем его в зависимости от того, больше оно или меньше нужного.\n",
    "       Функция принимает загаданное число и возвращает число попыток'''\n",
    "    count = 1\n",
    "    predict = 50\n",
    "    while number != predict:\n",
    "        count+=1\n",
    "        if number > predict: \n",
    "            predict += 1\n",
    "        elif number < predict: \n",
    "            predict -= 1\n",
    "    return(count) # выход из цикла, если угадали"
   ]
  },
  {
   "cell_type": "code",
   "execution_count": 3,
   "metadata": {
    "scrolled": true
   },
   "outputs": [
    {
     "name": "stdout",
     "output_type": "stream",
     "text": [
      "Ваш алгоритм угадывает число в среднем за 10 попыток\n"
     ]
    },
    {
     "data": {
      "text/plain": [
       "10"
      ]
     },
     "execution_count": 3,
     "metadata": {},
     "output_type": "execute_result"
    }
   ],
   "source": [
    "import numpy as np\n",
    "number = np.random.randint(1,101)\n",
    "\n",
    "def score_game(game_core):\n",
    "    '''Запускаем игру 1000 раз, чтобы узнать, как быстро игра угадывает число'''\n",
    "    count_ls = []\n",
    "    np.random.seed(1)  # фиксируем RANDOM SEED, чтобы ваш эксперимент был воспроизводим!\n",
    "    random_array = np.random.randint(1,101, size=(1000))\n",
    "    for number in random_array:\n",
    "        count_ls.append(game_core(number))\n",
    "    score = int(np.mean(count_ls))\n",
    "    print(f\"Ваш алгоритм угадывает число в среднем за {score} попыток\")\n",
    "    return(score)\n",
    "\n",
    "def min_predict(number,predict = 50):\n",
    "    '''Устанавливаю булеаны plus_ten и minus_five что бы в дальнейшем не когда дойдет до необходимого числа,\n",
    "    не заходить в ненужные if и при помощи сложения и вычитания 10 и 5 можно быстрее подобраться к искомому числу'''\n",
    "    plus_ten = True\n",
    "    minus_five = False\n",
    "    count = 2 # Счетчик начинаеться с 2х так как первая попытка была до цикла\n",
    "    while number != predict:\n",
    "        count += 1\n",
    "        if number > predict and plus_ten == True:\n",
    "            predict += 10\n",
    "            if predict > number:\n",
    "                plus_ten == False # Останавливаем сложение 10\n",
    "        elif number < predict and minus_five == False:\n",
    "            predict -= 5\n",
    "            minus_five = True # Останавливаем вычитание 5\n",
    "        elif number < predict:\n",
    "            predict -= 1\n",
    "        elif number > predict:\n",
    "            predict += 1\n",
    "    return predict,count # Возвращаю найденное число и счетчик попыток\n",
    "def max_predict(number,predict = 50):\n",
    "    '''Устанавливаю булеаны minus_ten и plus_five что бы в дальнейшем не когда дойдет до необходимого числа,\n",
    "    не заходить в ненужные if и при помощи сложения и вычитания 10 и 5 можно быстрее подобраться к искомому числу'''\n",
    "    minus_ten = True\n",
    "    plus_five = False\n",
    "    count = 2 # Счетчик начинаеться с 2х так как первая попытка была до цикла\n",
    "    while number != predict:\n",
    "        count += 1\n",
    "        if number < predict and minus_ten == True:\n",
    "            predict -= 10\n",
    "            if predict > number:\n",
    "                minus_ten == False # Останавливаем вычитание 10\n",
    "        elif number > predict and plus_five == False:\n",
    "            predict += 5\n",
    "            plus_five = True # Останавливаем сложение 5\n",
    "        elif number < predict:\n",
    "            predict -= 1\n",
    "        elif number > predict:\n",
    "            predict += 1\n",
    "    return predict,count # Возвращаю найденное число и счетчик попыток\n",
    "\n",
    "def game_core_v3(number):\n",
    "    '''Сначала устанавливаем любое random число, а потом уменьшаем или увеличиваем его в зависимости от того, больше оно или меньше нужного.\n",
    "       Функция принимает загаданное число и возвращает число попыток'''\n",
    "    count = 1\n",
    "    predict = 50 # Задаю среднее число в диапазоне random\n",
    "    while number != predict:\n",
    "        count+=1   \n",
    "        if number > predict: \n",
    "            predict,count = min_predict(number,predict) # Текущее число меньше искомого и передаю predict(по умолчанию 50)\n",
    "        elif number < predict: \n",
    "            predict,count = max_predict(number,predict) # Текущее число больше искомого и передаю predict(по умолчанию 50)\n",
    "    return(count) # выход из цикла, если угадали\n",
    "\n",
    "score_game(game_core_v3)"
   ]
  },
  {
   "cell_type": "code",
   "execution_count": null,
   "metadata": {},
   "outputs": [],
   "source": []
  },
  {
   "cell_type": "code",
   "execution_count": null,
   "metadata": {},
   "outputs": [],
   "source": []
  }
 ],
 "metadata": {
  "kernelspec": {
   "display_name": "Python 3",
   "language": "python",
   "name": "python3"
  },
  "language_info": {
   "codemirror_mode": {
    "name": "ipython",
    "version": 3
   },
   "file_extension": ".py",
   "mimetype": "text/x-python",
   "name": "python",
   "nbconvert_exporter": "python",
   "pygments_lexer": "ipython3",
   "version": "3.8.3"
  }
 },
 "nbformat": 4,
 "nbformat_minor": 4
}
