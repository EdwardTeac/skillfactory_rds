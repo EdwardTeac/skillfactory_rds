{
 "cells": [
  {
   "cell_type": "code",
   "execution_count": 1,
   "metadata": {},
   "outputs": [
    {
     "name": "stdout",
     "output_type": "stream",
     "text": [
      "Ваш алгоритм угадывает число в среднем за 10 попыток\n"
     ]
    },
    {
     "data": {
      "text/plain": [
       "10"
      ]
     },
     "execution_count": 1,
     "metadata": {},
     "output_type": "execute_result"
    }
   ],
   "source": [
    "import numpy as np\n",
    "number = np.random.randint(1,101)\n",
    "\n",
    "def score_game(game_core):\n",
    "    '''Запускаем игру 1000 раз, чтобы узнать, как быстро игра угадывает число'''\n",
    "    count_ls = []\n",
    "    np.random.seed(1)  # фиксируем RANDOM SEED, чтобы ваш эксперимент был воспроизводим!\n",
    "    random_array = np.random.randint(1,101, size=(1000))\n",
    "    for number in random_array:\n",
    "        count_ls.append(game_core(number))\n",
    "    score = int(np.mean(count_ls))\n",
    "    print(f\"Ваш алгоритм угадывает число в среднем за {score} попыток\")\n",
    "    return(score)\n",
    "\n",
    "def min_predict(number,predict = 50):\n",
    "    '''Устанавливаю булеаны plus_ten и minus_five что бы в дальнейшем не когда дойдет до необходимого числа,\n",
    "    не заходить в ненужные if и при помощи сложения и вычитания 10 и 5 можно быстрее подобраться к искомому числу'''\n",
    "    plus_ten = True\n",
    "    minus_five = False\n",
    "    count = 2 # Счетчик начинаеться с 2х так как первая попытка была до цикла\n",
    "    while number != predict:\n",
    "        count += 1\n",
    "        if number > predict and plus_ten == True:\n",
    "            predict += 10\n",
    "            if predict > number:\n",
    "                plus_ten == False # Останавливаем сложение 10\n",
    "        elif number < predict and minus_five == False:\n",
    "            predict -= 5\n",
    "            minus_five = True # Останавливаем вычитание 5\n",
    "        elif number < predict:\n",
    "            predict -= 1\n",
    "        elif number > predict:\n",
    "            predict += 1\n",
    "    return predict,count # Возвращаю найденное число и счетчик попыток\n",
    "def max_predict(number,predict = 50):\n",
    "    '''Устанавливаю булеаны minus_ten и plus_five что бы в дальнейшем не когда дойдет до необходимого числа,\n",
    "    не заходить в ненужные if и при помощи сложения и вычитания 10 и 5 можно быстрее подобраться к искомому числу'''\n",
    "    minus_ten = True\n",
    "    plus_five = False\n",
    "    count = 2 # Счетчик начинаеться с 2х так как первая попытка была до цикла\n",
    "    while number != predict:\n",
    "        count += 1\n",
    "        if number < predict and minus_ten == True:\n",
    "            predict -= 10\n",
    "            if predict > number:\n",
    "                minus_ten == False # Останавливаем вычитание 10\n",
    "        elif number > predict and plus_five == False:\n",
    "            predict += 5\n",
    "            plus_five = True # Останавливаем сложение 5\n",
    "        elif number < predict:\n",
    "            predict -= 1\n",
    "        elif number > predict:\n",
    "            predict += 1\n",
    "    return predict,count # Возвращаю найденное число и счетчик попыток\n",
    "\n",
    "def game_core_v3(number):\n",
    "    '''Сначала устанавливаем любое random число, а потом уменьшаем или увеличиваем его в зависимости от того, больше оно или меньше нужного.\n",
    "       Функция принимает загаданное число и возвращает число попыток'''\n",
    "    count = 1\n",
    "    predict = 50 # Задаю среднее число в диапазоне random\n",
    "    while number != predict:\n",
    "        count+=1   \n",
    "        if number > predict: \n",
    "            predict,count = min_predict(number,predict) # Текущее число меньше искомого и передаю predict(по умолчанию 50)\n",
    "        elif number < predict: \n",
    "            predict,count = max_predict(number,predict) # Текущее число больше искомого и передаю predict(по умолчанию 50)\n",
    "    return(count) # выход из цикла, если угадали\n",
    "\n",
    "score_game(game_core_v3)\n",
    "\n"
   ]
  },
  {
   "cell_type": "code",
   "execution_count": null,
   "metadata": {},
   "outputs": [],
   "source": []
  }
 ],
 "metadata": {
  "kernelspec": {
   "display_name": "Python 3",
   "language": "python",
   "name": "python3"
  },
  "language_info": {
   "codemirror_mode": {
    "name": "ipython",
    "version": 3
   },
   "file_extension": ".py",
   "mimetype": "text/x-python",
   "name": "python",
   "nbconvert_exporter": "python",
   "pygments_lexer": "ipython3",
   "version": "3.8.3"
  }
 },
 "nbformat": 4,
 "nbformat_minor": 4
}
