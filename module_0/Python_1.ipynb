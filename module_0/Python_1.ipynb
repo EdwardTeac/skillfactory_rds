{
 "cells": [
  {
   "cell_type": "code",
   "execution_count": 1,
   "metadata": {},
   "outputs": [
    {
     "data": {
      "text/plain": [
       "4"
      ]
     },
     "execution_count": 1,
     "metadata": {},
     "output_type": "execute_result"
    }
   ],
   "source": [
    "2+2"
   ]
  },
  {
   "cell_type": "code",
   "execution_count": 3,
   "metadata": {},
   "outputs": [],
   "source": [
    "# Это заголовок первого уровня"
   ]
  },
  {
   "cell_type": "code",
   "execution_count": 4,
   "metadata": {},
   "outputs": [],
   "source": [
    "## А это заголовок второго уровня"
   ]
  },
  {
   "cell_type": "markdown",
   "metadata": {},
   "source": [
    "# Это заголовок первого уровня\n",
    "\n",
    "## А это заголовок второго уровня\n",
    "\n",
    "Список:\n",
    "\n",
    "- Первый элемент списка\n",
    "\n",
    "- Второй элемент списка"
   ]
  },
  {
   "cell_type": "code",
   "execution_count": 5,
   "metadata": {},
   "outputs": [
    {
     "name": "stdout",
     "output_type": "stream",
     "text": [
      "Hello World!\n"
     ]
    }
   ],
   "source": [
    "print (\"Hello World!\")"
   ]
  },
  {
   "cell_type": "code",
   "execution_count": 7,
   "metadata": {},
   "outputs": [
    {
     "name": "stdout",
     "output_type": "stream",
     "text": [
      "Hello World!\n"
     ]
    }
   ],
   "source": [
    "print (\"Hello\", \"World!\")"
   ]
  },
  {
   "cell_type": "code",
   "execution_count": 8,
   "metadata": {},
   "outputs": [
    {
     "data": {
      "text/plain": [
       "4.0"
      ]
     },
     "execution_count": 8,
     "metadata": {},
     "output_type": "execute_result"
    }
   ],
   "source": [
    "(67+33)/25"
   ]
  },
  {
   "cell_type": "code",
   "execution_count": 9,
   "metadata": {},
   "outputs": [
    {
     "data": {
      "text/plain": [
       "17.414074767267998"
      ]
     },
     "execution_count": 9,
     "metadata": {},
     "output_type": "execute_result"
    }
   ],
   "source": [
    "(4+(5*60)-17+(65/4))**(1/2)"
   ]
  },
  {
   "cell_type": "code",
   "execution_count": 10,
   "metadata": {},
   "outputs": [
    {
     "data": {
      "text/plain": [
       "303.25"
      ]
     },
     "execution_count": 10,
     "metadata": {},
     "output_type": "execute_result"
    }
   ],
   "source": [
    "(4+(5*60)-17+(65/4))"
   ]
  },
  {
   "cell_type": "code",
   "execution_count": 12,
   "metadata": {},
   "outputs": [
    {
     "data": {
      "text/plain": [
       "1916.7312813742387"
      ]
     },
     "execution_count": 12,
     "metadata": {},
     "output_type": "execute_result"
    }
   ],
   "source": [
    "6.996 + (45*((13/2)**2))+(2*(18**(1/2)))"
   ]
  },
  {
   "cell_type": "code",
   "execution_count": 13,
   "metadata": {},
   "outputs": [
    {
     "data": {
      "text/plain": [
       "-14.0731201171875"
      ]
     },
     "execution_count": 13,
     "metadata": {},
     "output_type": "execute_result"
    }
   ],
   "source": [
    "(1267-(20*(((5**3)/2)**2)))/(8**5)*(36**(1/2))"
   ]
  },
  {
   "cell_type": "code",
   "execution_count": 14,
   "metadata": {},
   "outputs": [
    {
     "data": {
      "text/plain": [
       "-14.0731201171875"
      ]
     },
     "execution_count": 14,
     "metadata": {},
     "output_type": "execute_result"
    }
   ],
   "source": []
  },
  {
   "cell_type": "code",
   "execution_count": 15,
   "metadata": {},
   "outputs": [
    {
     "data": {
      "text/plain": [
       "-0.3909200032552083"
      ]
     },
     "execution_count": 15,
     "metadata": {},
     "output_type": "execute_result"
    }
   ],
   "source": [
    "(1267-(20*((5**3/2)**2)))/(8**5*36**(1/2))"
   ]
  },
  {
   "cell_type": "code",
   "execution_count": 16,
   "metadata": {},
   "outputs": [
    {
     "data": {
      "text/plain": [
       "-4251528.0"
      ]
     },
     "execution_count": 16,
     "metadata": {},
     "output_type": "execute_result"
    }
   ],
   "source": [
    "((((9**(1/2))**3)**2)**2)/-2**-3"
   ]
  },
  {
   "cell_type": "code",
   "execution_count": 1,
   "metadata": {},
   "outputs": [
    {
     "data": {
      "text/plain": [
       "'hey!'"
      ]
     },
     "execution_count": 1,
     "metadata": {},
     "output_type": "execute_result"
    }
   ],
   "source": [
    "'hey'+'!'"
   ]
  },
  {
   "cell_type": "code",
   "execution_count": 2,
   "metadata": {},
   "outputs": [
    {
     "data": {
      "text/plain": [
       "float"
      ]
     },
     "execution_count": 2,
     "metadata": {},
     "output_type": "execute_result"
    }
   ],
   "source": [
    "type(2+3.4)"
   ]
  },
  {
   "cell_type": "code",
   "execution_count": 3,
   "metadata": {},
   "outputs": [
    {
     "data": {
      "text/plain": [
       "int"
      ]
     },
     "execution_count": 3,
     "metadata": {},
     "output_type": "execute_result"
    }
   ],
   "source": [
    "type(2+3)"
   ]
  },
  {
   "cell_type": "code",
   "execution_count": 4,
   "metadata": {},
   "outputs": [
    {
     "name": "stdout",
     "output_type": "stream",
     "text": [
      "Введите своё имя: \n",
      "Igor\n"
     ]
    }
   ],
   "source": [
    "user_name = input('Введите своё имя: \\n')"
   ]
  },
  {
   "cell_type": "code",
   "execution_count": 5,
   "metadata": {
    "scrolled": true
   },
   "outputs": [
    {
     "name": "stdout",
     "output_type": "stream",
     "text": [
      "Введите основание степени: \n",
      "2\n",
      "Введите показатель степени: \n",
      "3\n",
      "Полученное число: 8.0\n"
     ]
    }
   ],
   "source": [
    "a = float(input('Введите основание степени: \\n'))\n",
    "b = float(input('Введите показатель степени: \\n'))\n",
    "# В функции print() можно в качестве аргументов \n",
    "# перечислять через запятую все нужные для вывода данные\n",
    "print('Полученное число:', a**b) "
   ]
  },
  {
   "cell_type": "code",
   "execution_count": 6,
   "metadata": {},
   "outputs": [
    {
     "data": {
      "text/plain": [
       "float"
      ]
     },
     "execution_count": 6,
     "metadata": {},
     "output_type": "execute_result"
    }
   ],
   "source": [
    "a=12\n",
    "b=17\n",
    "c=25\n",
    "type(((a+b+c)**(1/3)))"
   ]
  },
  {
   "cell_type": "code",
   "execution_count": 7,
   "metadata": {},
   "outputs": [
    {
     "name": "stdout",
     "output_type": "stream",
     "text": [
      "3.7797631496846193\n"
     ]
    }
   ],
   "source": [
    "a=12\n",
    "b=17\n",
    "c=25\n",
    "print(((a+b+c)**(1/3)))"
   ]
  },
  {
   "cell_type": "code",
   "execution_count": 8,
   "metadata": {},
   "outputs": [
    {
     "name": "stdout",
     "output_type": "stream",
     "text": [
      "3.7797631496846193\n"
     ]
    }
   ],
   "source": [
    "a=12\n",
    "b=17\n",
    "c=25\n",
    "print((a+b+c)**(1/3))"
   ]
  },
  {
   "cell_type": "code",
   "execution_count": 9,
   "metadata": {},
   "outputs": [
    {
     "name": "stdout",
     "output_type": "stream",
     "text": [
      "3.888322594479331\n"
     ]
    }
   ],
   "source": [
    "a = 270\n",
    "b = 12.8\n",
    "print(((a*b)**(1/2))**(1/3))"
   ]
  },
  {
   "cell_type": "code",
   "execution_count": 10,
   "metadata": {},
   "outputs": [
    {
     "name": "stdout",
     "output_type": "stream",
     "text": [
      "Квадратный корень из 169 - не целое число\n"
     ]
    }
   ],
   "source": [
    "number = 169\n",
    "if ((number**(1/2)) % 2) == 0:\n",
    "    print((number**(1/2)) % 2)\n",
    "else:\n",
    "    print('Квадратный корень из',number,'- не целое число')"
   ]
  },
  {
   "cell_type": "code",
   "execution_count": 11,
   "metadata": {},
   "outputs": [
    {
     "ename": "TypeError",
     "evalue": "unsupported operand type(s) for %: 'type' and 'int'",
     "output_type": "error",
     "traceback": [
      "\u001b[1;31m---------------------------------------------------------------------------\u001b[0m",
      "\u001b[1;31mTypeError\u001b[0m                                 Traceback (most recent call last)",
      "\u001b[1;32m<ipython-input-11-393bf2f25bfb>\u001b[0m in \u001b[0;36m<module>\u001b[1;34m\u001b[0m\n\u001b[0;32m      1\u001b[0m \u001b[0mnumber\u001b[0m \u001b[1;33m=\u001b[0m \u001b[1;36m169\u001b[0m\u001b[1;33m\u001b[0m\u001b[1;33m\u001b[0m\u001b[0m\n\u001b[1;32m----> 2\u001b[1;33m \u001b[1;32mif\u001b[0m \u001b[1;33m(\u001b[0m\u001b[0mtype\u001b[0m\u001b[1;33m(\u001b[0m\u001b[0mnumber\u001b[0m\u001b[1;33m**\u001b[0m\u001b[1;33m(\u001b[0m\u001b[1;36m1\u001b[0m\u001b[1;33m/\u001b[0m\u001b[1;36m2\u001b[0m\u001b[1;33m)\u001b[0m\u001b[1;33m)\u001b[0m \u001b[1;33m%\u001b[0m \u001b[1;36m2\u001b[0m\u001b[1;33m)\u001b[0m \u001b[1;33m==\u001b[0m \u001b[0mint\u001b[0m\u001b[1;33m:\u001b[0m\u001b[1;33m\u001b[0m\u001b[1;33m\u001b[0m\u001b[0m\n\u001b[0m\u001b[0;32m      3\u001b[0m     \u001b[0mprint\u001b[0m\u001b[1;33m(\u001b[0m\u001b[1;33m(\u001b[0m\u001b[0mnumber\u001b[0m\u001b[1;33m**\u001b[0m\u001b[1;33m(\u001b[0m\u001b[1;36m1\u001b[0m\u001b[1;33m/\u001b[0m\u001b[1;36m2\u001b[0m\u001b[1;33m)\u001b[0m\u001b[1;33m)\u001b[0m \u001b[1;33m%\u001b[0m \u001b[1;36m2\u001b[0m\u001b[1;33m)\u001b[0m\u001b[1;33m\u001b[0m\u001b[1;33m\u001b[0m\u001b[0m\n\u001b[0;32m      4\u001b[0m \u001b[1;32melse\u001b[0m\u001b[1;33m:\u001b[0m\u001b[1;33m\u001b[0m\u001b[1;33m\u001b[0m\u001b[0m\n\u001b[0;32m      5\u001b[0m     \u001b[0mprint\u001b[0m\u001b[1;33m(\u001b[0m\u001b[1;34m'Квадратный корень из'\u001b[0m\u001b[1;33m,\u001b[0m\u001b[0mnumber\u001b[0m\u001b[1;33m,\u001b[0m\u001b[1;34m'- не целое число'\u001b[0m\u001b[1;33m)\u001b[0m\u001b[1;33m\u001b[0m\u001b[1;33m\u001b[0m\u001b[0m\n",
      "\u001b[1;31mTypeError\u001b[0m: unsupported operand type(s) for %: 'type' and 'int'"
     ]
    }
   ],
   "source": [
    "number = 169\n",
    "if (type(number**(1/2)) % 2) == int:\n",
    "    print((number**(1/2)) % 2)\n",
    "else:\n",
    "    print('Квадратный корень из',number,'- не целое число')"
   ]
  },
  {
   "cell_type": "code",
   "execution_count": 12,
   "metadata": {},
   "outputs": [
    {
     "name": "stdout",
     "output_type": "stream",
     "text": [
      "Квадратный корень из 169 - не целое число\n"
     ]
    }
   ],
   "source": [
    "number = 169\n",
    "if (type(number**(1/2))) == int:\n",
    "    print((number**(1/2)) % 2)\n",
    "else:\n",
    "    print('Квадратный корень из',number,'- не целое число')"
   ]
  },
  {
   "cell_type": "code",
   "execution_count": 13,
   "metadata": {},
   "outputs": [
    {
     "name": "stdout",
     "output_type": "stream",
     "text": [
      "Квадратный корень из 169 - не целое число\n"
     ]
    }
   ],
   "source": [
    "number = 169\n",
    "if type(number**(1/2)) == int:\n",
    "    print((number**(1/2)) % 2)\n",
    "else:\n",
    "    print('Квадратный корень из',number,'- не целое число')"
   ]
  },
  {
   "cell_type": "code",
   "execution_count": 14,
   "metadata": {},
   "outputs": [
    {
     "data": {
      "text/plain": [
       "13.0"
      ]
     },
     "execution_count": 14,
     "metadata": {},
     "output_type": "execute_result"
    }
   ],
   "source": [
    "169**(1/2)"
   ]
  },
  {
   "cell_type": "code",
   "execution_count": 15,
   "metadata": {},
   "outputs": [
    {
     "data": {
      "text/plain": [
       "12.96148139681572"
      ]
     },
     "execution_count": 15,
     "metadata": {},
     "output_type": "execute_result"
    }
   ],
   "source": [
    "168**(1/2)"
   ]
  },
  {
   "cell_type": "code",
   "execution_count": 16,
   "metadata": {},
   "outputs": [
    {
     "data": {
      "text/plain": [
       "13"
      ]
     },
     "execution_count": 16,
     "metadata": {},
     "output_type": "execute_result"
    }
   ],
   "source": [
    "int(169**(1/2))"
   ]
  },
  {
   "cell_type": "code",
   "execution_count": 17,
   "metadata": {},
   "outputs": [
    {
     "data": {
      "text/plain": [
       "12"
      ]
     },
     "execution_count": 17,
     "metadata": {},
     "output_type": "execute_result"
    }
   ],
   "source": [
    "int(168**(1/2))"
   ]
  },
  {
   "cell_type": "code",
   "execution_count": 18,
   "metadata": {},
   "outputs": [
    {
     "name": "stdout",
     "output_type": "stream",
     "text": [
      "13.0\n"
     ]
    }
   ],
   "source": [
    "number = 169\n",
    "ck = number**(1/2)\n",
    "if int(ck*ck) == number:\n",
    "    print(number**(1/2))\n",
    "else:\n",
    "    print('Квадратный корень из',number,'- не целое число')"
   ]
  },
  {
   "cell_type": "code",
   "execution_count": 19,
   "metadata": {},
   "outputs": [
    {
     "name": "stdout",
     "output_type": "stream",
     "text": [
      "12.96148139681572\n"
     ]
    }
   ],
   "source": [
    "number = 168\n",
    "ck = number**(1/2)\n",
    "if int(ck*ck) == number:\n",
    "    print(number**(1/2))\n",
    "else:\n",
    "    print('Квадратный корень из',number,'- не целое число')"
   ]
  },
  {
   "cell_type": "code",
   "execution_count": 20,
   "metadata": {},
   "outputs": [
    {
     "name": "stdout",
     "output_type": "stream",
     "text": [
      "13.0\n"
     ]
    }
   ],
   "source": [
    "number = 169\n",
    "ck = int(number**(1/2))\n",
    "if int(ck*ck) == number:\n",
    "    print(number**(1/2))\n",
    "else:\n",
    "    print('Квадратный корень из',number,'- не целое число')"
   ]
  },
  {
   "cell_type": "code",
   "execution_count": 21,
   "metadata": {},
   "outputs": [
    {
     "name": "stdout",
     "output_type": "stream",
     "text": [
      "Квадратный корень из 168 - не целое число\n"
     ]
    }
   ],
   "source": [
    "number = 168\n",
    "ck = int(number**(1/2))\n",
    "if int(ck*ck) == number:\n",
    "    print(number**(1/2))\n",
    "else:\n",
    "    print('Квадратный корень из',number,'- не целое число')"
   ]
  },
  {
   "cell_type": "code",
   "execution_count": 23,
   "metadata": {},
   "outputs": [
    {
     "name": "stdout",
     "output_type": "stream",
     "text": [
      "Квадратный корень из 170 - не целое число\n"
     ]
    }
   ],
   "source": [
    "number = 170\n",
    "ck = int(number**(1/2))\n",
    "if int(ck*ck) == number:\n",
    "    print(number**(1/2))\n",
    "else:\n",
    "    print('Квадратный корень из',number,'- не целое число')"
   ]
  },
  {
   "cell_type": "code",
   "execution_count": 26,
   "metadata": {},
   "outputs": [
    {
     "name": "stdout",
     "output_type": "stream",
     "text": [
      "неудовлетворительно\n"
     ]
    }
   ],
   "source": [
    "mark = 3\n",
    "if mark < 4:\n",
    "    print('неудовлетворительно')\n",
    "elif mark >= 8:\n",
    "    print('отлично')\n",
    "elif mark > 5:\n",
    "    print('хорошо')\n",
    "else:\n",
    "    print('удовлетворительно')"
   ]
  },
  {
   "cell_type": "code",
   "execution_count": 33,
   "metadata": {},
   "outputs": [
    {
     "name": "stdout",
     "output_type": "stream",
     "text": [
      "OK\n"
     ]
    }
   ],
   "source": [
    "hour = 17\n",
    "minute = 47\n",
    "if hour == 10 and minute < 30:\n",
    "    print('OK')\n",
    "elif hour == 19 and minute > 30:\n",
    "    print('OK')\n",
    "elif hour >=15 and hour <18:\n",
    "    print('OK')\n",
    "elif hour == 12 or hour <=13 and minute < 40:\n",
    "    print('OK')\n",
    "else:\n",
    "    print('NO')"
   ]
  },
  {
   "cell_type": "code",
   "execution_count": 34,
   "metadata": {},
   "outputs": [
    {
     "name": "stdout",
     "output_type": "stream",
     "text": [
      "о\n",
      "ш\n",
      "п\n",
      "и\n"
     ]
    }
   ],
   "source": [
    "word = 'подшипник'\n",
    "for i,letter in enumerate(word):\n",
    "    if i % 2 != 0:\n",
    "        print(letter)"
   ]
  },
  {
   "cell_type": "code",
   "execution_count": 35,
   "metadata": {},
   "outputs": [
    {
     "name": "stdout",
     "output_type": "stream",
     "text": [
      "y\n",
      "h\n",
      "n\n"
     ]
    }
   ],
   "source": [
    "word = 'python'\n",
    "for i,letter in enumerate(word):\n",
    "    if i % 2 != 0:\n",
    "        print(letter)"
   ]
  },
  {
   "cell_type": "code",
   "execution_count": 36,
   "metadata": {
    "scrolled": true
   },
   "outputs": [
    {
     "name": "stdout",
     "output_type": "stream",
     "text": [
      "0 п\n",
      "1 о\n",
      "2 д\n",
      "3 ш\n",
      "4 и\n",
      "5 п\n",
      "6 н\n",
      "7 и\n",
      "8 к\n"
     ]
    }
   ],
   "source": [
    "word = 'подшипник'\n",
    "for i,letter in enumerate(word):\n",
    "        print(i,letter)"
   ]
  },
  {
   "cell_type": "code",
   "execution_count": 37,
   "metadata": {},
   "outputs": [
    {
     "name": "stdout",
     "output_type": "stream",
     "text": [
      "0 п\n",
      "1 о\n",
      "0 д\n",
      "1 ш\n",
      "0 и\n",
      "1 п\n",
      "0 н\n",
      "1 и\n",
      "0 к\n"
     ]
    }
   ],
   "source": [
    "word = 'подшипник'\n",
    "for i,letter in enumerate(word):\n",
    "        print(i % 2,letter)"
   ]
  },
  {
   "cell_type": "code",
   "execution_count": 38,
   "metadata": {},
   "outputs": [
    {
     "name": "stdout",
     "output_type": "stream",
     "text": [
      "о\n",
      "ш\n",
      "п\n",
      "и\n"
     ]
    }
   ],
   "source": [
    "word = 'подшипник'\n",
    "for i,letter in enumerate(word):\n",
    "    if i % 2 == 1:\n",
    "        print(letter)"
   ]
  },
  {
   "cell_type": "code",
   "execution_count": 15,
   "metadata": {},
   "outputs": [
    {
     "name": "stdout",
     "output_type": "stream",
     "text": [
      "   1\n",
      "   2   2\n",
      "   3   3   3\n",
      "   4   4   4   4\n",
      "   5   5   5   5   5\n",
      "   6   6   6   6   6   6\n",
      "   7   7   7   7   7   7   7\n",
      "   8   8   8   8   8   8   8   8\n",
      "   9   9   9   9   9   9   9   9   9\n",
      "  10  10  10  10  10  10  10  10  10  10\n"
     ]
    }
   ],
   "source": [
    "for j in range(1, 11):\n",
    "    for k in range(1, j + 1):\n",
    "        print('{:>4}'.format(j), end='')\n",
    "    print()"
   ]
  },
  {
   "cell_type": "code",
   "execution_count": 14,
   "metadata": {},
   "outputs": [
    {
     "name": "stdout",
     "output_type": "stream",
     "text": [
      "1   2   3   4   5   6   7   8   9   10  \n",
      "2   4   6   8   10  12  14  16  18  20  \n",
      "3   6   9   12  15  18  21  24  27  30  \n",
      "4   8   12  16  20  24  28  32  36  40  \n",
      "5   10  15  20  25  30  35  40  45  50  \n",
      "6   12  18  24  30  36  42  48  54  60  \n",
      "7   14  21  28  35  42  49  56  63  70  \n",
      "8   16  24  32  40  48  56  64  72  80  \n",
      "9   18  27  36  45  54  63  72  81  90  \n",
      "10  20  30  40  50  60  70  80  90  100 \n"
     ]
    }
   ],
   "source": [
    "for j in range(1, 11):\n",
    "    for k in range(1, 11):\n",
    "        print('{:<4}'.format(j * k), end='')\n",
    "    print()"
   ]
  },
  {
   "cell_type": "code",
   "execution_count": 43,
   "metadata": {},
   "outputs": [
    {
     "name": "stdout",
     "output_type": "stream",
     "text": [
      "2013 год невисокосный\n",
      "2014 год невисокосный\n",
      "2015 год невисокосный\n",
      "2016 год високосный\n",
      "2017 год невисокосный\n",
      "2018 год невисокосный\n",
      "2019 год невисокосный\n",
      "2020 год високосный\n"
     ]
    }
   ],
   "source": [
    "year_1 = 2013\n",
    "year_2 = 2020\n",
    "for i in range(year_1, year_2 + 1):\n",
    "    if i % 4 ==  0:\n",
    "        print(i, 'год високосный')\n",
    "    else: \n",
    "        print(i, 'год невисокосный')"
   ]
  },
  {
   "cell_type": "code",
   "execution_count": 49,
   "metadata": {},
   "outputs": [
    {
     "name": "stdout",
     "output_type": "stream",
     "text": [
      "и\n",
      "у\n",
      "а\n",
      "и\n",
      "а\n"
     ]
    }
   ],
   "source": [
    "word = 'Зимушка-зима'\n",
    "for i in word:\n",
    "    if i == 'и' or i == 'у' or i == 'а':\n",
    "        print(i)"
   ]
  },
  {
   "cell_type": "code",
   "execution_count": 50,
   "metadata": {},
   "outputs": [
    {
     "name": "stdout",
     "output_type": "stream",
     "text": [
      "Буква 0 в этом имени - С\n",
      "Буква 1 в этом имени - е\n",
      "Буква 2 в этом имени - р\n",
      "Буква 3 в этом имени - г\n",
      "Буква 4 в этом имени - е\n",
      "Буква 5 в этом имени - й\n"
     ]
    }
   ],
   "source": [
    "name = 'Сергей'\n",
    "for i,letter in enumerate(name):\n",
    "    print('Буква', i, 'в этом имени -', letter)"
   ]
  },
  {
   "cell_type": "code",
   "execution_count": 58,
   "metadata": {},
   "outputs": [
    {
     "name": "stdout",
     "output_type": "stream",
     "text": [
      "25\n",
      "27\n",
      "33\n",
      "35\n",
      "39\n",
      "45\n"
     ]
    }
   ],
   "source": [
    "num_1 = 25\n",
    "num_2 = 45\n",
    "if num_2 < num_1 or num_1 < 0:\n",
    "    print('Введён неверный диапазон чисел')\n",
    "else:\n",
    "    for i in range(num_1, num_2 + 1):\n",
    "        if i % 2 != 0 and i % 3 == 0 or i % 5 == 0 and i % 2 != 0:\n",
    "            print(i)"
   ]
  },
  {
   "cell_type": "code",
   "execution_count": 61,
   "metadata": {},
   "outputs": [
    {
     "name": "stdout",
     "output_type": "stream",
     "text": [
      "1 1 1\n",
      "2 4 8\n",
      "3 9 27\n",
      "4 16 64\n",
      "5 25 125\n",
      "6 36 216\n",
      "7 49 343\n",
      "8 64 512\n",
      "9 81 729\n",
      "10 100 1000\n"
     ]
    }
   ],
   "source": [
    "for i in range(1, 11):\n",
    "    print(i, i**2, i**3)"
   ]
  },
  {
   "cell_type": "code",
   "execution_count": 64,
   "metadata": {},
   "outputs": [
    {
     "name": "stdout",
     "output_type": "stream",
     "text": [
      "1\n",
      "2\n",
      "3\n",
      "4\n",
      "6\n",
      "7\n",
      "12\n",
      "14\n",
      "21\n",
      "28\n",
      "42\n",
      "84\n"
     ]
    }
   ],
   "source": [
    "number = 84\n",
    "for i in range(1,85):\n",
    "    if 84 % i == 0:\n",
    "        print (i)"
   ]
  },
  {
   "cell_type": "code",
   "execution_count": 68,
   "metadata": {},
   "outputs": [
    {
     "name": "stdout",
     "output_type": "stream",
     "text": [
      "2\n"
     ]
    }
   ],
   "source": [
    "num_1 = 12\n",
    "num_2 = 38\n",
    "if num_1 > num_2:\n",
    "    for i in range(2,num_1):\n",
    "        if num_1 % i == 0 and num_2 % i == 0:\n",
    "            print(i)\n",
    "elif num_2 > num_1:\n",
    "    for i in range(2,num_2):\n",
    "        if num_2 % i == 0 and num_1 % i == 0:\n",
    "            print(i)"
   ]
  },
  {
   "cell_type": "code",
   "execution_count": 81,
   "metadata": {},
   "outputs": [
    {
     "name": "stdout",
     "output_type": "stream",
     "text": [
      "1\n",
      "1\n",
      "2\n",
      "3\n",
      "5\n",
      "8\n",
      "13\n",
      "21\n",
      "34\n",
      "55\n",
      "89\n"
     ]
    }
   ],
   "source": [
    "n = 10\n",
    "prev = 0\n",
    "curr = 1\n",
    "\n",
    "for i in range(1,n+1):\n",
    "    print(curr)\n",
    "    summ = curr + prev\n",
    "    prev = curr\n",
    "    curr = summ\n",
    "else:\n",
    "    print(summ)"
   ]
  },
  {
   "cell_type": "code",
   "execution_count": 87,
   "metadata": {},
   "outputs": [
    {
     "name": "stdout",
     "output_type": "stream",
     "text": [
      "55\n"
     ]
    }
   ],
   "source": [
    "n = 10\n",
    "prev = 0\n",
    "curr = 1\n",
    "\n",
    "for i in range(1,n):\n",
    "    summ = curr + prev\n",
    "    prev = curr\n",
    "    curr = summ\n",
    "else:\n",
    "    print(summ)\n"
   ]
  },
  {
   "cell_type": "code",
   "execution_count": 88,
   "metadata": {},
   "outputs": [
    {
     "name": "stdout",
     "output_type": "stream",
     "text": [
      "15 X 1 = 15\n",
      "15 X 2 = 30\n",
      "15 X 3 = 45\n",
      "15 X 4 = 60\n",
      "15 X 5 = 75\n",
      "15 X 6 = 90\n",
      "15 X 7 = 105\n",
      "15 X 8 = 120\n",
      "15 X 9 = 135\n"
     ]
    }
   ],
   "source": [
    "number = 15\n",
    "for i in range(1,10):\n",
    "    print(number, 'X', i, '=', number*i)"
   ]
  },
  {
   "cell_type": "code",
   "execution_count": 1,
   "metadata": {},
   "outputs": [
    {
     "name": "stdout",
     "output_type": "stream",
     "text": [
      "с\n",
      "т\n",
      "р\n",
      "к\n",
      "ц\n",
      "и\n",
      "я\n"
     ]
    }
   ],
   "source": [
    "string = 'абстракция'\n",
    "for i in string:\n",
    "    if i == 'а' or i == 'б' or i == 'в':\n",
    "        continue\n",
    "    print(i)  "
   ]
  },
  {
   "cell_type": "code",
   "execution_count": 2,
   "metadata": {},
   "outputs": [
    {
     "name": "stdout",
     "output_type": "stream",
     "text": [
      "стркция"
     ]
    }
   ],
   "source": [
    "string = 'абстракция'\n",
    "for i in string:\n",
    "    if i == 'а' or i == 'б' or i == 'в':\n",
    "        continue\n",
    "    print(i, end='')  "
   ]
  },
  {
   "cell_type": "code",
   "execution_count": 4,
   "metadata": {},
   "outputs": [
    {
     "name": "stdout",
     "output_type": "stream",
     "text": [
      "Увы, это неправильный ответ\n",
      "Увы, это неправильный ответ\n",
      "Увы, это неправильный ответ\n",
      "Увы, это неправильный ответ\n",
      "Увы, это неправильный ответ\n",
      "Это безнадёжно!\n"
     ]
    }
   ],
   "source": [
    "string = 'Нет'\n",
    "for i in range(0,5):\n",
    "    if string == 'Да':\n",
    "        print('Это отлично!')\n",
    "        break\n",
    "    if string == 'Нет':\n",
    "        print('Увы, это неправильный ответ')\n",
    "else:\n",
    "    print('Это безнадёжно!')"
   ]
  },
  {
   "cell_type": "code",
   "execution_count": 11,
   "metadata": {},
   "outputs": [
    {
     "name": "stdout",
     "output_type": "stream",
     "text": [
      "Простое\n"
     ]
    }
   ],
   "source": [
    "number = 193\n",
    "for i in range(2,number):\n",
    "    if number % i == 0:\n",
    "        print('Не является простым')\n",
    "        break\n",
    "else:\n",
    "    print('Простое')"
   ]
  },
  {
   "cell_type": "code",
   "execution_count": 28,
   "metadata": {},
   "outputs": [
    {
     "name": "stdout",
     "output_type": "stream",
     "text": [
      "Какая хорошая строка!\n"
     ]
    }
   ],
   "source": [
    "string = 'прелестная строка'\n",
    "for i, letter in enumerate(string):\n",
    "    if i % 2 == 0:\n",
    "        if letter == 'о' or letter == 'е' or letter == 'а' or letter == 'и' or letter == 'я':\n",
    "            print('Строка мне не нравится!')\n",
    "            break\n",
    "else:\n",
    "    print('Какая хорошая строка!')"
   ]
  },
  {
   "cell_type": "code",
   "execution_count": 32,
   "metadata": {},
   "outputs": [
    {
     "name": "stdout",
     "output_type": "stream",
     "text": [
      "19\n"
     ]
    }
   ],
   "source": [
    "Y = 170000\n",
    "Z = 1000000\n",
    "i = 0\n",
    "while Y <= Z:\n",
    "    Y *= 1.10\n",
    "    i += 1\n",
    "else:\n",
    "    print(i)"
   ]
  },
  {
   "cell_type": "code",
   "execution_count": 1,
   "metadata": {},
   "outputs": [
    {
     "name": "stdout",
     "output_type": "stream",
     "text": [
      "Перевес 62 кг\n"
     ]
    }
   ],
   "source": [
    "weight = 77\n",
    "summ = 0\n",
    "while summ < 400:\n",
    "    summ += weight\n",
    "else:\n",
    "    print ('Перевес', summ - 400, 'кг')"
   ]
  },
  {
   "cell_type": "code",
   "execution_count": 2,
   "metadata": {},
   "outputs": [
    {
     "name": "stdout",
     "output_type": "stream",
     "text": [
      "7\n"
     ]
    }
   ],
   "source": [
    "current_health = 500\n",
    "attack = 80\n",
    "secs = 0\n",
    "while current_health >= 0:\n",
    "    current_health -= attack\n",
    "    secs += 1\n",
    "else:\n",
    "    print(secs)"
   ]
  },
  {
   "cell_type": "code",
   "execution_count": 3,
   "metadata": {},
   "outputs": [
    {
     "name": "stdout",
     "output_type": "stream",
     "text": [
      "10000\n",
      "7200\n",
      "4400\n",
      "1600\n",
      "Слишком большие расходы\n"
     ]
    }
   ],
   "source": [
    "spent = 2800\n",
    "balance = 10000\n",
    "while balance >= 0:\n",
    "    print(balance)\n",
    "    balance -= spent\n",
    "else:\n",
    "    print('Слишком большие расходы')"
   ]
  },
  {
   "cell_type": "code",
   "execution_count": 6,
   "metadata": {},
   "outputs": [
    {
     "name": "stdout",
     "output_type": "stream",
     "text": [
      "20\n"
     ]
    }
   ],
   "source": [
    "volume = 1000\n",
    "add = 5\n",
    "i = 0\n",
    "while volume >= 0:\n",
    "    volume -=add\n",
    "    add += 5\n",
    "    i += 1\n",
    "else:\n",
    "    print(i)"
   ]
  },
  {
   "cell_type": "code",
   "execution_count": 6,
   "metadata": {},
   "outputs": [
    {
     "name": "stdout",
     "output_type": "stream",
     "text": [
      "a =1\n",
      "b =1\n",
      "1 = 1\n"
     ]
    }
   ],
   "source": [
    "a = input('a =')\n",
    "b = input('b =')\n",
    "if a < b:\n",
    "    print('{} < {}'.format(a,b))\n",
    "elif a > b:\n",
    "    print('{} > {}'.format(a,b))\n",
    "else:\n",
    "    print('{} = {}'.format(a,b))"
   ]
  },
  {
   "cell_type": "code",
   "execution_count": 9,
   "metadata": {},
   "outputs": [
    {
     "name": "stdout",
     "output_type": "stream",
     "text": [
      "n =10\n",
      "3-й член ряда фибоначи - 2\n",
      "4-й член ряда фибоначи - 3\n",
      "5-й член ряда фибоначи - 5\n",
      "6-й член ряда фибоначи - 8\n",
      "7-й член ряда фибоначи - 13\n",
      "8-й член ряда фибоначи - 21\n",
      "9-й член ряда фибоначи - 34\n",
      "10-й член ряда фибоначи - 55\n"
     ]
    }
   ],
   "source": [
    "n = int(input('n ='))\n",
    "f1 = 1\n",
    "f2 = 1\n",
    "for i in range(3,n+1):\n",
    "    f1,f2 = f2, f1 + f2\n",
    "    print('{}-й член ряда фибоначи - {}'.format(i,f2))"
   ]
  },
  {
   "cell_type": "code",
   "execution_count": null,
   "metadata": {},
   "outputs": [],
   "source": []
  }
 ],
 "metadata": {
  "kernelspec": {
   "display_name": "Python 3",
   "language": "python",
   "name": "python3"
  },
  "language_info": {
   "codemirror_mode": {
    "name": "ipython",
    "version": 3
   },
   "file_extension": ".py",
   "mimetype": "text/x-python",
   "name": "python",
   "nbconvert_exporter": "python",
   "pygments_lexer": "ipython3",
   "version": "3.8.3"
  }
 },
 "nbformat": 4,
 "nbformat_minor": 4
}
